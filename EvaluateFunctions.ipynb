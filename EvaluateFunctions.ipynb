{
 "cells": [
  {
   "cell_type": "markdown",
   "id": "e9679f40",
   "metadata": {},
   "source": [
    "# Function1: Pdiction of single image file"
   ]
  },
  {
   "cell_type": "code",
   "execution_count": 1,
   "id": "0589bb4a",
   "metadata": {},
   "outputs": [],
   "source": [
    "# this function input a single image file and output the lable predicted by our model"
   ]
  },
  {
   "cell_type": "code",
   "execution_count": 2,
   "id": "e2468081",
   "metadata": {},
   "outputs": [],
   "source": [
    "from PIL import Image \n",
    "from tensorflow.keras.models import load_model\n",
    "from numpy import array\n",
    "from numpy import loadtxt\n",
    "\n",
    "def label_prediction_single(input_image):\n",
    "    newsize = (32, 32)\n",
    "    input_image = input_image.resize(newsize) # resize\n",
    "    input_image = array(input_image)\n",
    "    sample = input_image.reshape((1,32,32,3))\n",
    "    \n",
    "    model = load_model('final_model.h5') # load model\n",
    "    result = model.predict(sample)\n",
    "    label = result[0][0]\n",
    "    print(\"The lable of this figure is: \", label)\n",
    "    if label ==1:\n",
    "        return \"This image is an airplane\"\n",
    "    else:\n",
    "        return \"This image is not an airplane\""
   ]
  },
  {
   "cell_type": "code",
   "execution_count": 3,
   "id": "30eb1d3a",
   "metadata": {},
   "outputs": [
    {
     "name": "stdout",
     "output_type": "stream",
     "text": [
      "Metal device set to: Apple M1 Pro\n"
     ]
    },
    {
     "name": "stderr",
     "output_type": "stream",
     "text": [
      "2022-09-11 12:58:39.517916: I tensorflow/core/common_runtime/pluggable_device/pluggable_device_factory.cc:305] Could not identify NUMA node of platform GPU ID 0, defaulting to 0. Your kernel may not have been built with NUMA support.\n",
      "2022-09-11 12:58:39.518048: I tensorflow/core/common_runtime/pluggable_device/pluggable_device_factory.cc:271] Created TensorFlow device (/job:localhost/replica:0/task:0/device:GPU:0 with 0 MB memory) -> physical PluggableDevice (device: 0, name: METAL, pci bus id: <undefined>)\n",
      "2022-09-11 12:58:39.701245: W tensorflow/core/platform/profile_utils/cpu_utils.cc:128] Failed to get CPU frequency: 0 Hz\n"
     ]
    },
    {
     "name": "stdout",
     "output_type": "stream",
     "text": [
      "1/1 [==============================] - 0s 86ms/step\n"
     ]
    },
    {
     "name": "stderr",
     "output_type": "stream",
     "text": [
      "2022-09-11 12:58:39.743398: I tensorflow/core/grappler/optimizers/custom_graph_optimizer_registry.cc:113] Plugin optimizer for device_type GPU is enabled.\n",
      "2022-09-11 12:58:39.917186: I tensorflow/core/grappler/optimizers/custom_graph_optimizer_registry.cc:113] Plugin optimizer for device_type GPU is enabled.\n"
     ]
    },
    {
     "name": "stdout",
     "output_type": "stream",
     "text": [
      "The lable of this figure is:  1.0\n",
      "This image is an airplane\n",
      "1/1 [==============================] - 0s 54ms/step\n",
      "The lable of this figure is:  0.0\n",
      "This image is not an airplane\n"
     ]
    }
   ],
   "source": [
    "# Example imput: \n",
    "input_image1 = Image.open(\"test_image1.jpeg\")\n",
    "print(label_prediction_single(input_image1))\n",
    "\n",
    "input_image_2 = Image.open(\"test_image2.jpeg\")\n",
    "print(label_prediction_single(input_image_2))"
   ]
  },
  {
   "cell_type": "markdown",
   "id": "4a39298f",
   "metadata": {},
   "source": [
    "# Function2: prediction and evluation of all images in a folder"
   ]
  },
  {
   "cell_type": "code",
   "execution_count": 4,
   "id": "31010a3f",
   "metadata": {},
   "outputs": [],
   "source": [
    "from PIL import Image\n",
    "import PIL\n",
    "import os\n",
    "import numpy as np\n",
    "from numpy import array\n",
    "from tensorflow.keras.models import load_model\n",
    "\n",
    "\n",
    "def resize_images(path):\n",
    "    X_test = np.empty([0])\n",
    "    directory_files = os.listdir(path)\n",
    "    multiple_images = [file for file in directory_files if file.endswith(('.jpeg', '.png'))]\n",
    "    for image in multiple_images:\n",
    "        img = Image.open(path+'/' +image)\n",
    "        mResize = img.resize((32,32), Image.ANTIALIAS)\n",
    "        mResize = array(mResize)\n",
    "        X_test = np.append(X_test,mResize)\n",
    "    X_test = X_test.reshape((len(multiple_images),32,32,3))\n",
    "    return X_test"
   ]
  },
  {
   "cell_type": "code",
   "execution_count": 5,
   "id": "38b1df81",
   "metadata": {},
   "outputs": [],
   "source": [
    "def evluate_images(directory_path, labels):\n",
    "    images = resize_images(directory_path)\n",
    "    model = load_model('final_model.h5') # load model\n",
    "    accuracy = model.evaluate(images, labels, verbose=2)\n",
    "    label_predict = model.predict(images)\n",
    "    return label_predict\n",
    "    "
   ]
  },
  {
   "cell_type": "code",
   "execution_count": 6,
   "id": "d355f37b",
   "metadata": {},
   "outputs": [
    {
     "name": "stderr",
     "output_type": "stream",
     "text": [
      "/var/folders/n8/b0h19_qd25197zqs3z5mpf3h0000gn/T/ipykernel_44544/3831886115.py:15: DeprecationWarning: ANTIALIAS is deprecated and will be removed in Pillow 10 (2023-07-01). Use Resampling.LANCZOS instead.\n",
      "  mResize = img.resize((32,32), Image.ANTIALIAS)\n"
     ]
    },
    {
     "name": "stdout",
     "output_type": "stream",
     "text": [
      "1/1 - 0s - loss: 0.0000e+00 - binary_accuracy: 1.0000 - 143ms/epoch - 143ms/step\n",
      "1/1 [==============================] - 0s 59ms/step\n"
     ]
    },
    {
     "name": "stderr",
     "output_type": "stream",
     "text": [
      "2022-09-11 12:58:40.293361: I tensorflow/core/grappler/optimizers/custom_graph_optimizer_registry.cc:113] Plugin optimizer for device_type GPU is enabled.\n",
      "2022-09-11 12:58:40.421537: I tensorflow/core/grappler/optimizers/custom_graph_optimizer_registry.cc:113] Plugin optimizer for device_type GPU is enabled.\n"
     ]
    },
    {
     "data": {
      "text/plain": [
       "array([[0.],\n",
       "       [1.],\n",
       "       [0.]], dtype=float32)"
      ]
     },
     "execution_count": 6,
     "metadata": {},
     "output_type": "execute_result"
    }
   ],
   "source": [
    "# Example\n",
    "directory_path = '/Users/kittyli/Downloads/test_set'\n",
    "labels = array([0,1,0])\n",
    "evluate_images(directory_path, labels)"
   ]
  },
  {
   "cell_type": "code",
   "execution_count": null,
   "id": "739b90ea",
   "metadata": {},
   "outputs": [],
   "source": []
  }
 ],
 "metadata": {
  "kernelspec": {
   "display_name": "Python 3 (ipykernel)",
   "language": "python",
   "name": "python3"
  },
  "language_info": {
   "codemirror_mode": {
    "name": "ipython",
    "version": 3
   },
   "file_extension": ".py",
   "mimetype": "text/x-python",
   "name": "python",
   "nbconvert_exporter": "python",
   "pygments_lexer": "ipython3",
   "version": "3.9.0"
  }
 },
 "nbformat": 4,
 "nbformat_minor": 5
}
