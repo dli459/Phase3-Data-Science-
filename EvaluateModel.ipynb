{
 "cells": [
  {
   "cell_type": "code",
   "execution_count": 36,
   "id": "5013dbb1",
   "metadata": {},
   "outputs": [
    {
     "name": "stdout",
     "output_type": "stream",
     "text": [
      "Model: \"sequential_10\"\n",
      "_________________________________________________________________\n",
      " Layer (type)                Output Shape              Param #   \n",
      "=================================================================\n",
      " conv2d_40 (Conv2D)          (None, 32, 32, 32)        896       \n",
      "                                                                 \n",
      " conv2d_41 (Conv2D)          (None, 32, 32, 32)        9248      \n",
      "                                                                 \n",
      " max_pooling2d_20 (MaxPoolin  (None, 16, 16, 32)       0         \n",
      " g2D)                                                            \n",
      "                                                                 \n",
      " conv2d_42 (Conv2D)          (None, 16, 16, 64)        18496     \n",
      "                                                                 \n",
      " conv2d_43 (Conv2D)          (None, 16, 16, 64)        36928     \n",
      "                                                                 \n",
      " max_pooling2d_21 (MaxPoolin  (None, 8, 8, 64)         0         \n",
      " g2D)                                                            \n",
      "                                                                 \n",
      " flatten_10 (Flatten)        (None, 4096)              0         \n",
      "                                                                 \n",
      " dropout_10 (Dropout)        (None, 4096)              0         \n",
      "                                                                 \n",
      " dense_30 (Dense)            (None, 128)               524416    \n",
      "                                                                 \n",
      " dense_31 (Dense)            (None, 10)                1290      \n",
      "                                                                 \n",
      " dense_32 (Dense)            (None, 1)                 11        \n",
      "                                                                 \n",
      "=================================================================\n",
      "Total params: 591,285\n",
      "Trainable params: 591,285\n",
      "Non-trainable params: 0\n",
      "_________________________________________________________________\n"
     ]
    }
   ],
   "source": [
    "from numpy import loadtxt\n",
    "from tensorflow.keras.models import load_model\n",
    " \n",
    "# load model\n",
    "model = load_model('final_model1.h5')\n",
    "# summarize model.\n",
    "model.summary()"
   ]
  },
  {
   "cell_type": "code",
   "execution_count": 31,
   "id": "b451e858",
   "metadata": {},
   "outputs": [],
   "source": [
    "from PIL import Image \n",
    "from numpy import loadtxt\n",
    "from tensorflow.keras.models import load_model\n",
    "from numpy import array\n",
    "\n",
    "def label_prediction(input_image):\n",
    "    newsize = (32, 32)\n",
    "    input_image = input_image.resize(newsize)\n",
    "    input_image = array(input_image)\n",
    "    sample = input_image.reshape((1,32,32,3))\n",
    "    result = model.predict(sample)\n",
    "    label = result[0][0]\n",
    "    if label ==1:\n",
    "        return \"This image is an airplane\"\n",
    "    else:\n",
    "        return \"This image is not an airplane\"\n"
   ]
  },
  {
   "cell_type": "code",
   "execution_count": 32,
   "id": "a0a4241a",
   "metadata": {},
   "outputs": [],
   "source": [
    "input_image1 = Image.open(\"test_image1.jpeg\")\n"
   ]
  },
  {
   "cell_type": "code",
   "execution_count": 33,
   "id": "defa5705",
   "metadata": {},
   "outputs": [
    {
     "name": "stdout",
     "output_type": "stream",
     "text": [
      "1/1 [==============================] - 0s 76ms/step\n",
      "This image is an airplane\n"
     ]
    },
    {
     "name": "stderr",
     "output_type": "stream",
     "text": [
      "2022-09-11 00:41:39.127960: I tensorflow/core/grappler/optimizers/custom_graph_optimizer_registry.cc:113] Plugin optimizer for device_type GPU is enabled.\n"
     ]
    }
   ],
   "source": [
    "print(label_prediction(input_image1))"
   ]
  },
  {
   "cell_type": "code",
   "execution_count": 34,
   "id": "c360be79",
   "metadata": {},
   "outputs": [],
   "source": [
    "input_image_2 = Image.open(\"test_image2.jpeg\")"
   ]
  },
  {
   "cell_type": "code",
   "execution_count": 35,
   "id": "acf50df1",
   "metadata": {},
   "outputs": [
    {
     "name": "stdout",
     "output_type": "stream",
     "text": [
      "1/1 [==============================] - 0s 15ms/step\n",
      "This image is not an airplane\n"
     ]
    }
   ],
   "source": [
    "print(label_prediction(input_image_2))"
   ]
  },
  {
   "cell_type": "code",
   "execution_count": null,
   "id": "a9860e91",
   "metadata": {},
   "outputs": [],
   "source": []
  }
 ],
 "metadata": {
  "kernelspec": {
   "display_name": "Python 3 (ipykernel)",
   "language": "python",
   "name": "python3"
  },
  "language_info": {
   "codemirror_mode": {
    "name": "ipython",
    "version": 3
   },
   "file_extension": ".py",
   "mimetype": "text/x-python",
   "name": "python",
   "nbconvert_exporter": "python",
   "pygments_lexer": "ipython3",
   "version": "3.9.0"
  }
 },
 "nbformat": 4,
 "nbformat_minor": 5
}
